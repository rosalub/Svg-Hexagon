{
 "cells": [
  {
   "cell_type": "code",
   "execution_count": 1,
   "id": "a884ea5f",
   "metadata": {},
   "outputs": [],
   "source": [
    "import math \n",
    "from PIL import Image, ImageDraw \n",
    "import numpy as np"
   ]
  },
  {
   "cell_type": "code",
   "execution_count": 2,
   "id": "68fec2ed",
   "metadata": {},
   "outputs": [],
   "source": [
    "def hexadots(l,origins):\n",
    "    L = list()\n",
    "    res = list()\n",
    "    for o in origins: #à améliorer ?\n",
    "        x = o[0]\n",
    "        y = o[1]\n",
    "        half = int((l/2))\n",
    "        res.append((x,y-l))\n",
    "        res.append((x+l,y-half))\n",
    "        res.append((x+l,y+half))\n",
    "        res.append((x,y+l))\n",
    "        res.append((x-l,y+half))\n",
    "        res.append((x-l,y-half))\n",
    "        res.append((x,y-l))\n",
    "        L.append(res)\n",
    "        res = list()\n",
    "    return L"
   ]
  },
  {
   "cell_type": "code",
   "execution_count": 3,
   "id": "9b807bef",
   "metadata": {},
   "outputs": [],
   "source": [
    "def pavage(l, img):\n",
    "    #A documenter\n",
    "    #Going throw all the origins given a length for every hexagon:\n",
    "    image = Image.open(\"screenshot.jpg\")\n",
    "    width, height = image.size\n",
    "    l = 5\n",
    "    xs = list()\n",
    "    ys = list()\n",
    "    k = 0\n",
    "    for y in range(l,height, int(1.5*l)):\n",
    "        if k % 2 == 0:\n",
    "            k += 1\n",
    "            for x in range(int(l), width, 2*l):\n",
    "                xs.append(x)\n",
    "                ys.append(y)\n",
    "        else:\n",
    "            k += 1\n",
    "            for x in range(0, width, 2*l):\n",
    "                xs.append(x)\n",
    "                ys.append(y)\n",
    "                \n",
    "    # ------------------------------------------------------------  \n",
    "    #Aggregating all our origins in a list of tuples\n",
    "    origins = list(zip(xs,ys))\n",
    "    \n",
    "    # ------------------------------------------------------------\n",
    "    #Deducing all the points that form a hexagon from our origins and draw them on the image:\n",
    "    coord = hexadots(l,origins)\n",
    "    with Image.open(\"screenshot.jpg\") as im:\n",
    "        draw = ImageDraw.Draw(im) \n",
    "        for i in coord:\n",
    "            shape = i\n",
    "            draw.line(shape, width = 0) \n",
    "    im.save(\"hexagon.png\")\n",
    "    im.show()"
   ]
  },
  {
   "cell_type": "code",
   "execution_count": 4,
   "id": "92df393d",
   "metadata": {},
   "outputs": [],
   "source": [
    "pavage(5,\"screenshot.png\")"
   ]
  }
 ],
 "metadata": {
  "kernelspec": {
   "display_name": "Python 3 (ipykernel)",
   "language": "python",
   "name": "python3"
  },
  "language_info": {
   "codemirror_mode": {
    "name": "ipython",
    "version": 3
   },
   "file_extension": ".py",
   "mimetype": "text/x-python",
   "name": "python",
   "nbconvert_exporter": "python",
   "pygments_lexer": "ipython3",
   "version": "3.9.7"
  }
 },
 "nbformat": 4,
 "nbformat_minor": 5
}
